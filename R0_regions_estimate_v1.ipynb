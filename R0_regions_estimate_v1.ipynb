{
 "cells": [
  {
   "cell_type": "markdown",
   "metadata": {},
   "source": [
    "# Инициализация:"
   ]
  },
  {
   "cell_type": "code",
   "execution_count": 1,
   "metadata": {},
   "outputs": [],
   "source": [
    "import numpy as np\n",
    "import pandas as pd\n",
    "import datetime\n",
    "import requests\n",
    "import io\n",
    "from scipy import stats"
   ]
  },
  {
   "cell_type": "markdown",
   "metadata": {},
   "source": [
    "# Глобальные параметры"
   ]
  },
  {
   "cell_type": "code",
   "execution_count": 2,
   "metadata": {},
   "outputs": [],
   "source": [
    "## model params\n",
    "death_shift_days = -21 # нужно будет поменять на 21\n",
    "cases_shift_days = -11\n",
    "lethality = 0.0066\n",
    "rolling_window_for_coeff = 5\n",
    "tau_e=5.1\n",
    "tau_i=2.83"
   ]
  },
  {
   "cell_type": "markdown",
   "metadata": {},
   "source": [
    "# Функции"
   ]
  },
  {
   "cell_type": "code",
   "execution_count": 3,
   "metadata": {},
   "outputs": [],
   "source": [
    "#### Темп удвоения числа заболевших в расчете на каждую дату.\n",
    "def get_Td(x):\n",
    "    return np.log(2)/(np.log(1+x))\n",
    "#### Rₒ\n",
    "def get_R_naught(Td, tau_e=5.1, tau_i=2.83): # KWARGS\n",
    "    a = 1 + (tau_e/Td)*np.log(2)\n",
    "    b = 1 + (tau_i/Td)*np.log(2)\n",
    "    R_naught = a*b\n",
    "    return R_naught\n",
    "def input_coeffs_without_fitting(Series, rolling_window_for_coeff=rolling_window_for_coeff):    \n",
    "    if Series.dropna().index[-1]==Series.index[-1]:\n",
    "        return Series\n",
    "    else:\n",
    "        Series = Series.copy()\n",
    "        last_actual_date = Series.dropna().tail().index[-1]\n",
    "        Series[last_actual_date:][1:] = Series.dropna().tail(rolling_window_for_coeff).mean()\n",
    "        return Series\n",
    "\n",
    "def get_tail_trend_slope(Series, tail=rolling_window_for_coeff):\n",
    "    Series = Series.dropna().tail(tail).reset_index(drop=True).copy()\n",
    "    xdata = Series.index\n",
    "    ydata = Series.values\n",
    "    slope, intercept, r_value, p_value, std_err = stats.linregress(xdata,ydata)\n",
    "    return slope\n",
    "\n",
    "def yandex_data_to_convention(df, region='Москва'):\n",
    "    ndf = df[df['region_name']==region][['cases_delta','deaths_delta']]\\\n",
    "            .rename(columns={'deaths_delta':'death','cases_delta':'cases'})\n",
    "    ndf.index.name = 'time'\n",
    "    return ndf"
   ]
  },
  {
   "cell_type": "code",
   "execution_count": 4,
   "metadata": {},
   "outputs": [],
   "source": [
    "def get_R0_Series_for_region(df,\\\n",
    "                            death_shift_days = -21,\\\n",
    "                            cases_shift_days = -11,\\\n",
    "                            lethality = 0.0066,\\\n",
    "                            rolling_window_for_coeff = 5,\\\n",
    "                            tau_e=5.1,\\\n",
    "                            tau_i=2.83,\\\n",
    "                           ):\n",
    "\n",
    "    # checking data and params\n",
    "    ch1 = death_shift_days < cases_shift_days < 0\n",
    "    ch2 = df[df['death'].cumsum()>0].shape[0] > abs(death_shift_days) # checking that death data is enough\n",
    "    if not sum([ch1, ch2])==len([ch1, ch2]):\n",
    "        return -1\n",
    "\n",
    "    ## Делаем сдвиги рядов данных\n",
    "\n",
    "    df['death_shifted']  = df['death'].shift(death_shift_days)\n",
    "    df['cases_shifted']  = df['cases'].shift(cases_shift_days)\n",
    "    df['cases_expected'] = df['death_shifted']\\\n",
    "                                .rolling(rolling_window_for_coeff, center=True).mean()\\\n",
    "                                *(1/lethality)\n",
    "    df['coeff_cases']    = df['cases_shifted'].rolling(rolling_window_for_coeff, center=True).mean()\\\n",
    "                            /df['cases_expected']\n",
    "    df['coeff_cases_forwardshifted'] = df['coeff_cases'].shift(-cases_shift_days)\n",
    "    df['coeff_cases_model'] = input_coeffs_without_fitting(df['coeff_cases_forwardshifted'])\n",
    "\n",
    "    ### Считаем время удвоения и Rₒ\n",
    "\n",
    "    df['cases_adj'] = df['cases']/df['coeff_cases_model']\n",
    "    df['cases_adj_rate'] = df['cases_adj']/(df['cases_adj'].cumsum())\n",
    "    df['doubling_time'] = df['cases_adj_rate'].apply(get_Td)\n",
    "    df['doubling_time_rolling'] = df['doubling_time'].rolling(rolling_window_for_coeff, center=True).mean()\n",
    "    df['R_naught']=df['doubling_time_rolling'].apply(get_R_naught)\n",
    "        \n",
    "    if len(df['R_naught'].dropna())>3:\n",
    "        return df['R_naught']\n",
    "    else:\n",
    "        return -1"
   ]
  },
  {
   "cell_type": "code",
   "execution_count": 5,
   "metadata": {},
   "outputs": [],
   "source": [
    "def get_latest_R0_for_region(df,\\\n",
    "                            death_shift_days = -21,\\\n",
    "                            cases_shift_days = -11,\\\n",
    "                            lethality = 0.0066,\\\n",
    "                            rolling_window_for_coeff = 5,\\\n",
    "                            tau_e=5.1,\\\n",
    "                            tau_i=2.83,\\\n",
    "                           ):\n",
    "\n",
    "    # checking data and params\n",
    "    ch1 = death_shift_days < cases_shift_days < 0\n",
    "    ch2 = df[df['death'].cumsum()>0].shape[0] > abs(death_shift_days) # checking that death data is enough\n",
    "    if not sum([ch1, ch2])==len([ch1, ch2]):\n",
    "        return None\n",
    "\n",
    "    ## Делаем сдвиги рядов данных\n",
    "\n",
    "    df['death_shifted']  = df['death'].shift(death_shift_days)\n",
    "    df['cases_shifted']  = df['cases'].shift(cases_shift_days)\n",
    "    df['cases_expected'] = df['death_shifted']\\\n",
    "                                .rolling(rolling_window_for_coeff, center=True).mean()\\\n",
    "                                *(1/lethality)\n",
    "    df['coeff_cases']    = df['cases_shifted'].rolling(rolling_window_for_coeff, center=True).mean()\\\n",
    "                            /df['cases_expected']\n",
    "    df['coeff_cases_forwardshifted'] = df['coeff_cases'].shift(-cases_shift_days)\n",
    "    df['coeff_cases_model'] = input_coeffs_without_fitting(df['coeff_cases_forwardshifted'])\n",
    "\n",
    "    ### Считаем время удвоения и Rₒ\n",
    "\n",
    "    df['cases_adj'] = df['cases']/df['coeff_cases_model']\n",
    "    df['cases_adj_rate'] = df['cases_adj']/(df['cases_adj'].cumsum())\n",
    "    df['doubling_time'] = df['cases_adj_rate'].apply(get_Td)\n",
    "    df['doubling_time_rolling'] = df['doubling_time'].rolling(rolling_window_for_coeff, center=True).mean()\n",
    "    df['R_naught']=df['doubling_time_rolling'].apply(get_R_naught)\n",
    "        \n",
    "    if len(df['R_naught'].dropna())>3:\n",
    "        return df['R_naught'].dropna()[-1]\n",
    "    else:\n",
    "        return None"
   ]
  },
  {
   "cell_type": "code",
   "execution_count": 6,
   "metadata": {},
   "outputs": [],
   "source": [
    "def get_R0_trend_for_region(df,\\\n",
    "                            death_shift_days = -21,\\\n",
    "                            cases_shift_days = -11,\\\n",
    "                            lethality = 0.0066,\\\n",
    "                            rolling_window_for_coeff = 5,\\\n",
    "                            tau_e=5.1,\\\n",
    "                            tau_i=2.83,\\\n",
    "                           ):\n",
    "\n",
    "    # checking data and params\n",
    "    ch1 = death_shift_days < cases_shift_days < 0\n",
    "    ch2 = df[df['death'].cumsum()>0].shape[0] > abs(death_shift_days) # checking that death data is enough\n",
    "    if not sum([ch1, ch2])==len([ch1, ch2]):\n",
    "        return None\n",
    "\n",
    "    ## Делаем сдвиги рядов данных\n",
    "\n",
    "    df['death_shifted']  = df['death'].shift(death_shift_days)\n",
    "    df['cases_shifted']  = df['cases'].shift(cases_shift_days)\n",
    "    df['cases_expected'] = df['death_shifted']\\\n",
    "                                .rolling(rolling_window_for_coeff, center=True).mean()\\\n",
    "                                *(1/lethality)\n",
    "    df['coeff_cases']    = df['cases_shifted'].rolling(rolling_window_for_coeff, center=True).mean()\\\n",
    "                            /df['cases_expected']\n",
    "    df['coeff_cases_forwardshifted'] = df['coeff_cases'].shift(-cases_shift_days)\n",
    "    df['coeff_cases_model'] = input_coeffs_without_fitting(df['coeff_cases_forwardshifted'])\n",
    "\n",
    "    ### Считаем время удвоения и Rₒ\n",
    "\n",
    "    df['cases_adj'] = df['cases']/df['coeff_cases_model']\n",
    "    df['cases_adj_rate'] = df['cases_adj']/(df['cases_adj'].cumsum())\n",
    "    df['doubling_time'] = df['cases_adj_rate'].apply(get_Td)\n",
    "    df['doubling_time_rolling'] = df['doubling_time'].rolling(rolling_window_for_coeff, center=True).mean()\n",
    "    df['R_naught']=df['doubling_time_rolling'].apply(get_R_naught)\n",
    "    \n",
    "    Series = df['R_naught'].dropna()\n",
    "\n",
    "    if len(Series) > 3:\n",
    "        return get_tail_trend_slope(Series)\n",
    "    else:\n",
    "        return None"
   ]
  },
  {
   "cell_type": "markdown",
   "metadata": {},
   "source": [
    "# Загружаем последние данные Яндекса"
   ]
  },
  {
   "cell_type": "code",
   "execution_count": 7,
   "metadata": {},
   "outputs": [],
   "source": [
    "yandex_covid_data_url = 'https://yastat.net/s3/milab/2020/covid19-stat/data/export/russia_stat.csv'\n",
    "url=yandex_covid_data_url\n",
    "s=requests.get(url).content\n",
    "df=pd.read_csv(io.StringIO(s.decode('utf-8')))\n",
    "df.to_csv('russia_stat.csv', index=False)"
   ]
  },
  {
   "cell_type": "code",
   "execution_count": 8,
   "metadata": {},
   "outputs": [],
   "source": [
    "df = pd.read_csv('russia_stat.csv')\n",
    "df = df.set_index('date', drop=True)\n",
    "df.index = pd.to_datetime(df.index)"
   ]
  },
  {
   "cell_type": "markdown",
   "metadata": {},
   "source": [
    "# Считаем и экспортируем"
   ]
  },
  {
   "cell_type": "code",
   "execution_count": 9,
   "metadata": {},
   "outputs": [],
   "source": [
    "all_regions = df.groupby('region_name').max().sort_values('region_population', ascending=False).index\n",
    "\n",
    "d1 = {}\n",
    "d2 = {}\n",
    "for region in all_regions:\n",
    "    region_data = yandex_data_to_convention(df,region)\n",
    "    current_R0 = get_latest_R0_for_region(region_data)\n",
    "    d1.update({region:    current_R0   })\n",
    "    if current_R0 != None:\n",
    "        current_trend_for_region = get_R0_trend_for_region(region_data)\n",
    "    else:\n",
    "        current_trend_for_region = None\n",
    "    d2.update({region: current_trend_for_region})"
   ]
  },
  {
   "cell_type": "code",
   "execution_count": 10,
   "metadata": {},
   "outputs": [],
   "source": [
    "df_export = pd.concat([pd.Series(d1).rename('R_naught'),pd.Series(d2).rename('R_naught_trend')], axis = 1)\n",
    "df_export.index = df_export.index.rename('region_name')\n",
    "df_export.to_csv('R_naugth_regions.csv')"
   ]
  }
 ],
 "metadata": {
  "kernelspec": {
   "display_name": "Python 3",
   "language": "python",
   "name": "python3"
  },
  "language_info": {
   "codemirror_mode": {
    "name": "ipython",
    "version": 3
   },
   "file_extension": ".py",
   "mimetype": "text/x-python",
   "name": "python",
   "nbconvert_exporter": "python",
   "pygments_lexer": "ipython3",
   "version": "3.7.3"
  }
 },
 "nbformat": 4,
 "nbformat_minor": 2
}
